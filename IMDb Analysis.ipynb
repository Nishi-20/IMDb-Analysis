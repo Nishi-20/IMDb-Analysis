{
 "cells": [
  {
   "cell_type": "code",
   "execution_count": 2,
   "id": "66ef5b7e",
   "metadata": {},
   "outputs": [],
   "source": [
    "import pandas as pd\n",
    "import seaborn as sns\n",
    "from matplotlib import pyplot as plt"
   ]
  },
  {
   "cell_type": "code",
   "execution_count": 3,
   "id": "1cfe35b5",
   "metadata": {},
   "outputs": [],
   "source": [
    "ratings=pd.read_table(r'C:\\Users\\HP\\Downloads\\title.ratings.tsv\\data.tsv')"
   ]
  },
  {
   "cell_type": "code",
   "execution_count": 4,
   "id": "2d3f9365",
   "metadata": {},
   "outputs": [
    {
     "data": {
      "text/html": [
       "<div>\n",
       "<style scoped>\n",
       "    .dataframe tbody tr th:only-of-type {\n",
       "        vertical-align: middle;\n",
       "    }\n",
       "\n",
       "    .dataframe tbody tr th {\n",
       "        vertical-align: top;\n",
       "    }\n",
       "\n",
       "    .dataframe thead th {\n",
       "        text-align: right;\n",
       "    }\n",
       "</style>\n",
       "<table border=\"1\" class=\"dataframe\">\n",
       "  <thead>\n",
       "    <tr style=\"text-align: right;\">\n",
       "      <th></th>\n",
       "      <th>tconst</th>\n",
       "      <th>averageRating</th>\n",
       "      <th>numVotes</th>\n",
       "    </tr>\n",
       "  </thead>\n",
       "  <tbody>\n",
       "    <tr>\n",
       "      <th>0</th>\n",
       "      <td>tt0000001</td>\n",
       "      <td>5.7</td>\n",
       "      <td>1972</td>\n",
       "    </tr>\n",
       "    <tr>\n",
       "      <th>1</th>\n",
       "      <td>tt0000002</td>\n",
       "      <td>5.8</td>\n",
       "      <td>264</td>\n",
       "    </tr>\n",
       "    <tr>\n",
       "      <th>2</th>\n",
       "      <td>tt0000003</td>\n",
       "      <td>6.5</td>\n",
       "      <td>1820</td>\n",
       "    </tr>\n",
       "    <tr>\n",
       "      <th>3</th>\n",
       "      <td>tt0000004</td>\n",
       "      <td>5.6</td>\n",
       "      <td>178</td>\n",
       "    </tr>\n",
       "    <tr>\n",
       "      <th>4</th>\n",
       "      <td>tt0000005</td>\n",
       "      <td>6.2</td>\n",
       "      <td>2615</td>\n",
       "    </tr>\n",
       "  </tbody>\n",
       "</table>\n",
       "</div>"
      ],
      "text/plain": [
       "      tconst  averageRating  numVotes\n",
       "0  tt0000001            5.7      1972\n",
       "1  tt0000002            5.8       264\n",
       "2  tt0000003            6.5      1820\n",
       "3  tt0000004            5.6       178\n",
       "4  tt0000005            6.2      2615"
      ]
     },
     "execution_count": 4,
     "metadata": {},
     "output_type": "execute_result"
    }
   ],
   "source": [
    "ratings.head()"
   ]
  },
  {
   "cell_type": "code",
   "execution_count": 5,
   "id": "2b0c0d07",
   "metadata": {},
   "outputs": [
    {
     "data": {
      "text/plain": [
       "(1312760, 3)"
      ]
     },
     "execution_count": 5,
     "metadata": {},
     "output_type": "execute_result"
    }
   ],
   "source": [
    "ratings.shape"
   ]
  },
  {
   "cell_type": "code",
   "execution_count": 6,
   "id": "6d2595ee",
   "metadata": {},
   "outputs": [
    {
     "name": "stderr",
     "output_type": "stream",
     "text": [
      "C:\\Users\\HP\\AppData\\Local\\Temp\\ipykernel_9288\\1258278915.py:1: DtypeWarning: Columns (4) have mixed types. Specify dtype option on import or set low_memory=False.\n",
      "  titles=pd.read_table(r'C:\\Users\\HP\\Downloads\\title.basics.tsv\\data.tsv')\n"
     ]
    }
   ],
   "source": [
    "titles=pd.read_table(r'C:\\Users\\HP\\Downloads\\title.basics.tsv\\data.tsv')"
   ]
  },
  {
   "cell_type": "code",
   "execution_count": 7,
   "id": "425371a0",
   "metadata": {},
   "outputs": [
    {
     "data": {
      "text/html": [
       "<div>\n",
       "<style scoped>\n",
       "    .dataframe tbody tr th:only-of-type {\n",
       "        vertical-align: middle;\n",
       "    }\n",
       "\n",
       "    .dataframe tbody tr th {\n",
       "        vertical-align: top;\n",
       "    }\n",
       "\n",
       "    .dataframe thead th {\n",
       "        text-align: right;\n",
       "    }\n",
       "</style>\n",
       "<table border=\"1\" class=\"dataframe\">\n",
       "  <thead>\n",
       "    <tr style=\"text-align: right;\">\n",
       "      <th></th>\n",
       "      <th>tconst</th>\n",
       "      <th>titleType</th>\n",
       "      <th>primaryTitle</th>\n",
       "      <th>originalTitle</th>\n",
       "      <th>isAdult</th>\n",
       "      <th>startYear</th>\n",
       "      <th>endYear</th>\n",
       "      <th>runtimeMinutes</th>\n",
       "      <th>genres</th>\n",
       "    </tr>\n",
       "  </thead>\n",
       "  <tbody>\n",
       "    <tr>\n",
       "      <th>0</th>\n",
       "      <td>tt0000001</td>\n",
       "      <td>short</td>\n",
       "      <td>Carmencita</td>\n",
       "      <td>Carmencita</td>\n",
       "      <td>0</td>\n",
       "      <td>1894</td>\n",
       "      <td>\\N</td>\n",
       "      <td>1</td>\n",
       "      <td>Documentary,Short</td>\n",
       "    </tr>\n",
       "    <tr>\n",
       "      <th>1</th>\n",
       "      <td>tt0000002</td>\n",
       "      <td>short</td>\n",
       "      <td>Le clown et ses chiens</td>\n",
       "      <td>Le clown et ses chiens</td>\n",
       "      <td>0</td>\n",
       "      <td>1892</td>\n",
       "      <td>\\N</td>\n",
       "      <td>5</td>\n",
       "      <td>Animation,Short</td>\n",
       "    </tr>\n",
       "    <tr>\n",
       "      <th>2</th>\n",
       "      <td>tt0000003</td>\n",
       "      <td>short</td>\n",
       "      <td>Pauvre Pierrot</td>\n",
       "      <td>Pauvre Pierrot</td>\n",
       "      <td>0</td>\n",
       "      <td>1892</td>\n",
       "      <td>\\N</td>\n",
       "      <td>4</td>\n",
       "      <td>Animation,Comedy,Romance</td>\n",
       "    </tr>\n",
       "    <tr>\n",
       "      <th>3</th>\n",
       "      <td>tt0000004</td>\n",
       "      <td>short</td>\n",
       "      <td>Un bon bock</td>\n",
       "      <td>Un bon bock</td>\n",
       "      <td>0</td>\n",
       "      <td>1892</td>\n",
       "      <td>\\N</td>\n",
       "      <td>12</td>\n",
       "      <td>Animation,Short</td>\n",
       "    </tr>\n",
       "    <tr>\n",
       "      <th>4</th>\n",
       "      <td>tt0000005</td>\n",
       "      <td>short</td>\n",
       "      <td>Blacksmith Scene</td>\n",
       "      <td>Blacksmith Scene</td>\n",
       "      <td>0</td>\n",
       "      <td>1893</td>\n",
       "      <td>\\N</td>\n",
       "      <td>1</td>\n",
       "      <td>Comedy,Short</td>\n",
       "    </tr>\n",
       "    <tr>\n",
       "      <th>5</th>\n",
       "      <td>tt0000006</td>\n",
       "      <td>short</td>\n",
       "      <td>Chinese Opium Den</td>\n",
       "      <td>Chinese Opium Den</td>\n",
       "      <td>0</td>\n",
       "      <td>1894</td>\n",
       "      <td>\\N</td>\n",
       "      <td>1</td>\n",
       "      <td>Short</td>\n",
       "    </tr>\n",
       "    <tr>\n",
       "      <th>6</th>\n",
       "      <td>tt0000007</td>\n",
       "      <td>short</td>\n",
       "      <td>Corbett and Courtney Before the Kinetograph</td>\n",
       "      <td>Corbett and Courtney Before the Kinetograph</td>\n",
       "      <td>0</td>\n",
       "      <td>1894</td>\n",
       "      <td>\\N</td>\n",
       "      <td>1</td>\n",
       "      <td>Short,Sport</td>\n",
       "    </tr>\n",
       "    <tr>\n",
       "      <th>7</th>\n",
       "      <td>tt0000008</td>\n",
       "      <td>short</td>\n",
       "      <td>Edison Kinetoscopic Record of a Sneeze</td>\n",
       "      <td>Edison Kinetoscopic Record of a Sneeze</td>\n",
       "      <td>0</td>\n",
       "      <td>1894</td>\n",
       "      <td>\\N</td>\n",
       "      <td>1</td>\n",
       "      <td>Documentary,Short</td>\n",
       "    </tr>\n",
       "    <tr>\n",
       "      <th>8</th>\n",
       "      <td>tt0000009</td>\n",
       "      <td>movie</td>\n",
       "      <td>Miss Jerry</td>\n",
       "      <td>Miss Jerry</td>\n",
       "      <td>0</td>\n",
       "      <td>1894</td>\n",
       "      <td>\\N</td>\n",
       "      <td>45</td>\n",
       "      <td>Romance</td>\n",
       "    </tr>\n",
       "    <tr>\n",
       "      <th>9</th>\n",
       "      <td>tt0000010</td>\n",
       "      <td>short</td>\n",
       "      <td>Leaving the Factory</td>\n",
       "      <td>La sortie de l'usine Lumière à Lyon</td>\n",
       "      <td>0</td>\n",
       "      <td>1895</td>\n",
       "      <td>\\N</td>\n",
       "      <td>1</td>\n",
       "      <td>Documentary,Short</td>\n",
       "    </tr>\n",
       "    <tr>\n",
       "      <th>10</th>\n",
       "      <td>tt0000011</td>\n",
       "      <td>short</td>\n",
       "      <td>Akrobatisches Potpourri</td>\n",
       "      <td>Akrobatisches Potpourri</td>\n",
       "      <td>0</td>\n",
       "      <td>1895</td>\n",
       "      <td>\\N</td>\n",
       "      <td>1</td>\n",
       "      <td>Documentary,Short</td>\n",
       "    </tr>\n",
       "    <tr>\n",
       "      <th>11</th>\n",
       "      <td>tt0000012</td>\n",
       "      <td>short</td>\n",
       "      <td>The Arrival of a Train</td>\n",
       "      <td>L'arrivée d'un train à La Ciotat</td>\n",
       "      <td>0</td>\n",
       "      <td>1896</td>\n",
       "      <td>\\N</td>\n",
       "      <td>1</td>\n",
       "      <td>Documentary,Short</td>\n",
       "    </tr>\n",
       "    <tr>\n",
       "      <th>12</th>\n",
       "      <td>tt0000013</td>\n",
       "      <td>short</td>\n",
       "      <td>The Photographical Congress Arrives in Lyon</td>\n",
       "      <td>Le débarquement du congrès de photographie à Lyon</td>\n",
       "      <td>0</td>\n",
       "      <td>1895</td>\n",
       "      <td>\\N</td>\n",
       "      <td>1</td>\n",
       "      <td>Documentary,Short</td>\n",
       "    </tr>\n",
       "    <tr>\n",
       "      <th>13</th>\n",
       "      <td>tt0000014</td>\n",
       "      <td>short</td>\n",
       "      <td>The Waterer Watered</td>\n",
       "      <td>L'arroseur arrosé</td>\n",
       "      <td>0</td>\n",
       "      <td>1895</td>\n",
       "      <td>\\N</td>\n",
       "      <td>1</td>\n",
       "      <td>Comedy,Short</td>\n",
       "    </tr>\n",
       "    <tr>\n",
       "      <th>14</th>\n",
       "      <td>tt0000015</td>\n",
       "      <td>short</td>\n",
       "      <td>Autour d'une cabine</td>\n",
       "      <td>Autour d'une cabine</td>\n",
       "      <td>0</td>\n",
       "      <td>1894</td>\n",
       "      <td>\\N</td>\n",
       "      <td>2</td>\n",
       "      <td>Animation,Short</td>\n",
       "    </tr>\n",
       "    <tr>\n",
       "      <th>15</th>\n",
       "      <td>tt0000016</td>\n",
       "      <td>short</td>\n",
       "      <td>Boat Leaving the Port</td>\n",
       "      <td>Barque sortant du port</td>\n",
       "      <td>0</td>\n",
       "      <td>1895</td>\n",
       "      <td>\\N</td>\n",
       "      <td>1</td>\n",
       "      <td>Documentary,Short</td>\n",
       "    </tr>\n",
       "    <tr>\n",
       "      <th>16</th>\n",
       "      <td>tt0000017</td>\n",
       "      <td>short</td>\n",
       "      <td>Italienischer Bauerntanz</td>\n",
       "      <td>Italienischer Bauerntanz</td>\n",
       "      <td>0</td>\n",
       "      <td>1895</td>\n",
       "      <td>\\N</td>\n",
       "      <td>1</td>\n",
       "      <td>Documentary,Short</td>\n",
       "    </tr>\n",
       "    <tr>\n",
       "      <th>17</th>\n",
       "      <td>tt0000018</td>\n",
       "      <td>short</td>\n",
       "      <td>Das boxende Känguruh</td>\n",
       "      <td>Das boxende Känguruh</td>\n",
       "      <td>0</td>\n",
       "      <td>1895</td>\n",
       "      <td>\\N</td>\n",
       "      <td>1</td>\n",
       "      <td>Short</td>\n",
       "    </tr>\n",
       "    <tr>\n",
       "      <th>18</th>\n",
       "      <td>tt0000019</td>\n",
       "      <td>short</td>\n",
       "      <td>The Clown Barber</td>\n",
       "      <td>The Clown Barber</td>\n",
       "      <td>0</td>\n",
       "      <td>1898</td>\n",
       "      <td>\\N</td>\n",
       "      <td>\\N</td>\n",
       "      <td>Comedy,Short</td>\n",
       "    </tr>\n",
       "    <tr>\n",
       "      <th>19</th>\n",
       "      <td>tt0000020</td>\n",
       "      <td>short</td>\n",
       "      <td>The Derby 1895</td>\n",
       "      <td>The Derby 1895</td>\n",
       "      <td>0</td>\n",
       "      <td>1895</td>\n",
       "      <td>\\N</td>\n",
       "      <td>1</td>\n",
       "      <td>Documentary,Short,Sport</td>\n",
       "    </tr>\n",
       "  </tbody>\n",
       "</table>\n",
       "</div>"
      ],
      "text/plain": [
       "       tconst titleType                                 primaryTitle  \\\n",
       "0   tt0000001     short                                   Carmencita   \n",
       "1   tt0000002     short                       Le clown et ses chiens   \n",
       "2   tt0000003     short                               Pauvre Pierrot   \n",
       "3   tt0000004     short                                  Un bon bock   \n",
       "4   tt0000005     short                             Blacksmith Scene   \n",
       "5   tt0000006     short                            Chinese Opium Den   \n",
       "6   tt0000007     short  Corbett and Courtney Before the Kinetograph   \n",
       "7   tt0000008     short       Edison Kinetoscopic Record of a Sneeze   \n",
       "8   tt0000009     movie                                   Miss Jerry   \n",
       "9   tt0000010     short                          Leaving the Factory   \n",
       "10  tt0000011     short                      Akrobatisches Potpourri   \n",
       "11  tt0000012     short                       The Arrival of a Train   \n",
       "12  tt0000013     short  The Photographical Congress Arrives in Lyon   \n",
       "13  tt0000014     short                          The Waterer Watered   \n",
       "14  tt0000015     short                          Autour d'une cabine   \n",
       "15  tt0000016     short                        Boat Leaving the Port   \n",
       "16  tt0000017     short                     Italienischer Bauerntanz   \n",
       "17  tt0000018     short                         Das boxende Känguruh   \n",
       "18  tt0000019     short                             The Clown Barber   \n",
       "19  tt0000020     short                               The Derby 1895   \n",
       "\n",
       "                                        originalTitle isAdult startYear  \\\n",
       "0                                          Carmencita       0      1894   \n",
       "1                              Le clown et ses chiens       0      1892   \n",
       "2                                      Pauvre Pierrot       0      1892   \n",
       "3                                         Un bon bock       0      1892   \n",
       "4                                    Blacksmith Scene       0      1893   \n",
       "5                                   Chinese Opium Den       0      1894   \n",
       "6         Corbett and Courtney Before the Kinetograph       0      1894   \n",
       "7              Edison Kinetoscopic Record of a Sneeze       0      1894   \n",
       "8                                          Miss Jerry       0      1894   \n",
       "9                 La sortie de l'usine Lumière à Lyon       0      1895   \n",
       "10                            Akrobatisches Potpourri       0      1895   \n",
       "11                   L'arrivée d'un train à La Ciotat       0      1896   \n",
       "12  Le débarquement du congrès de photographie à Lyon       0      1895   \n",
       "13                                  L'arroseur arrosé       0      1895   \n",
       "14                                Autour d'une cabine       0      1894   \n",
       "15                             Barque sortant du port       0      1895   \n",
       "16                           Italienischer Bauerntanz       0      1895   \n",
       "17                               Das boxende Känguruh       0      1895   \n",
       "18                                   The Clown Barber       0      1898   \n",
       "19                                     The Derby 1895       0      1895   \n",
       "\n",
       "   endYear runtimeMinutes                    genres  \n",
       "0       \\N              1         Documentary,Short  \n",
       "1       \\N              5           Animation,Short  \n",
       "2       \\N              4  Animation,Comedy,Romance  \n",
       "3       \\N             12           Animation,Short  \n",
       "4       \\N              1              Comedy,Short  \n",
       "5       \\N              1                     Short  \n",
       "6       \\N              1               Short,Sport  \n",
       "7       \\N              1         Documentary,Short  \n",
       "8       \\N             45                   Romance  \n",
       "9       \\N              1         Documentary,Short  \n",
       "10      \\N              1         Documentary,Short  \n",
       "11      \\N              1         Documentary,Short  \n",
       "12      \\N              1         Documentary,Short  \n",
       "13      \\N              1              Comedy,Short  \n",
       "14      \\N              2           Animation,Short  \n",
       "15      \\N              1         Documentary,Short  \n",
       "16      \\N              1         Documentary,Short  \n",
       "17      \\N              1                     Short  \n",
       "18      \\N             \\N              Comedy,Short  \n",
       "19      \\N              1   Documentary,Short,Sport  "
      ]
     },
     "execution_count": 7,
     "metadata": {},
     "output_type": "execute_result"
    }
   ],
   "source": [
    "titles.iloc[0:20]"
   ]
  },
  {
   "cell_type": "code",
   "execution_count": 8,
   "id": "828516b8",
   "metadata": {},
   "outputs": [
    {
     "data": {
      "text/plain": [
       "(9856732, 9)"
      ]
     },
     "execution_count": 8,
     "metadata": {},
     "output_type": "execute_result"
    }
   ],
   "source": [
    "titles.shape"
   ]
  },
  {
   "cell_type": "code",
   "execution_count": 9,
   "id": "10abdef4",
   "metadata": {},
   "outputs": [],
   "source": [
    "titles=titles.drop('endYear',axis=1)"
   ]
  },
  {
   "cell_type": "code",
   "execution_count": 10,
   "id": "15fed4d8",
   "metadata": {},
   "outputs": [],
   "source": [
    "final_list= pd.merge(ratings,titles,on='tconst')"
   ]
  },
  {
   "cell_type": "code",
   "execution_count": 10,
   "id": "d5930621",
   "metadata": {},
   "outputs": [
    {
     "data": {
      "text/html": [
       "<div>\n",
       "<style scoped>\n",
       "    .dataframe tbody tr th:only-of-type {\n",
       "        vertical-align: middle;\n",
       "    }\n",
       "\n",
       "    .dataframe tbody tr th {\n",
       "        vertical-align: top;\n",
       "    }\n",
       "\n",
       "    .dataframe thead th {\n",
       "        text-align: right;\n",
       "    }\n",
       "</style>\n",
       "<table border=\"1\" class=\"dataframe\">\n",
       "  <thead>\n",
       "    <tr style=\"text-align: right;\">\n",
       "      <th></th>\n",
       "      <th>tconst</th>\n",
       "      <th>averageRating</th>\n",
       "      <th>numVotes</th>\n",
       "      <th>titleType</th>\n",
       "      <th>primaryTitle</th>\n",
       "      <th>originalTitle</th>\n",
       "      <th>isAdult</th>\n",
       "      <th>startYear</th>\n",
       "      <th>runtimeMinutes</th>\n",
       "      <th>genres</th>\n",
       "    </tr>\n",
       "  </thead>\n",
       "  <tbody>\n",
       "    <tr>\n",
       "      <th>0</th>\n",
       "      <td>tt0000001</td>\n",
       "      <td>5.7</td>\n",
       "      <td>1972</td>\n",
       "      <td>short</td>\n",
       "      <td>Carmencita</td>\n",
       "      <td>Carmencita</td>\n",
       "      <td>0</td>\n",
       "      <td>1894</td>\n",
       "      <td>1</td>\n",
       "      <td>Documentary,Short</td>\n",
       "    </tr>\n",
       "    <tr>\n",
       "      <th>1</th>\n",
       "      <td>tt0000002</td>\n",
       "      <td>5.8</td>\n",
       "      <td>264</td>\n",
       "      <td>short</td>\n",
       "      <td>Le clown et ses chiens</td>\n",
       "      <td>Le clown et ses chiens</td>\n",
       "      <td>0</td>\n",
       "      <td>1892</td>\n",
       "      <td>5</td>\n",
       "      <td>Animation,Short</td>\n",
       "    </tr>\n",
       "    <tr>\n",
       "      <th>2</th>\n",
       "      <td>tt0000003</td>\n",
       "      <td>6.5</td>\n",
       "      <td>1820</td>\n",
       "      <td>short</td>\n",
       "      <td>Pauvre Pierrot</td>\n",
       "      <td>Pauvre Pierrot</td>\n",
       "      <td>0</td>\n",
       "      <td>1892</td>\n",
       "      <td>4</td>\n",
       "      <td>Animation,Comedy,Romance</td>\n",
       "    </tr>\n",
       "    <tr>\n",
       "      <th>3</th>\n",
       "      <td>tt0000004</td>\n",
       "      <td>5.6</td>\n",
       "      <td>178</td>\n",
       "      <td>short</td>\n",
       "      <td>Un bon bock</td>\n",
       "      <td>Un bon bock</td>\n",
       "      <td>0</td>\n",
       "      <td>1892</td>\n",
       "      <td>12</td>\n",
       "      <td>Animation,Short</td>\n",
       "    </tr>\n",
       "    <tr>\n",
       "      <th>4</th>\n",
       "      <td>tt0000005</td>\n",
       "      <td>6.2</td>\n",
       "      <td>2615</td>\n",
       "      <td>short</td>\n",
       "      <td>Blacksmith Scene</td>\n",
       "      <td>Blacksmith Scene</td>\n",
       "      <td>0</td>\n",
       "      <td>1893</td>\n",
       "      <td>1</td>\n",
       "      <td>Comedy,Short</td>\n",
       "    </tr>\n",
       "    <tr>\n",
       "      <th>5</th>\n",
       "      <td>tt0000006</td>\n",
       "      <td>5.1</td>\n",
       "      <td>181</td>\n",
       "      <td>short</td>\n",
       "      <td>Chinese Opium Den</td>\n",
       "      <td>Chinese Opium Den</td>\n",
       "      <td>0</td>\n",
       "      <td>1894</td>\n",
       "      <td>1</td>\n",
       "      <td>Short</td>\n",
       "    </tr>\n",
       "    <tr>\n",
       "      <th>6</th>\n",
       "      <td>tt0000007</td>\n",
       "      <td>5.4</td>\n",
       "      <td>818</td>\n",
       "      <td>short</td>\n",
       "      <td>Corbett and Courtney Before the Kinetograph</td>\n",
       "      <td>Corbett and Courtney Before the Kinetograph</td>\n",
       "      <td>0</td>\n",
       "      <td>1894</td>\n",
       "      <td>1</td>\n",
       "      <td>Short,Sport</td>\n",
       "    </tr>\n",
       "    <tr>\n",
       "      <th>7</th>\n",
       "      <td>tt0000008</td>\n",
       "      <td>5.4</td>\n",
       "      <td>2110</td>\n",
       "      <td>short</td>\n",
       "      <td>Edison Kinetoscopic Record of a Sneeze</td>\n",
       "      <td>Edison Kinetoscopic Record of a Sneeze</td>\n",
       "      <td>0</td>\n",
       "      <td>1894</td>\n",
       "      <td>1</td>\n",
       "      <td>Documentary,Short</td>\n",
       "    </tr>\n",
       "    <tr>\n",
       "      <th>8</th>\n",
       "      <td>tt0000009</td>\n",
       "      <td>5.3</td>\n",
       "      <td>204</td>\n",
       "      <td>movie</td>\n",
       "      <td>Miss Jerry</td>\n",
       "      <td>Miss Jerry</td>\n",
       "      <td>0</td>\n",
       "      <td>1894</td>\n",
       "      <td>45</td>\n",
       "      <td>Romance</td>\n",
       "    </tr>\n",
       "    <tr>\n",
       "      <th>9</th>\n",
       "      <td>tt0000010</td>\n",
       "      <td>6.9</td>\n",
       "      <td>7157</td>\n",
       "      <td>short</td>\n",
       "      <td>Leaving the Factory</td>\n",
       "      <td>La sortie de l'usine Lumière à Lyon</td>\n",
       "      <td>0</td>\n",
       "      <td>1895</td>\n",
       "      <td>1</td>\n",
       "      <td>Documentary,Short</td>\n",
       "    </tr>\n",
       "  </tbody>\n",
       "</table>\n",
       "</div>"
      ],
      "text/plain": [
       "      tconst  averageRating  numVotes titleType  \\\n",
       "0  tt0000001            5.7      1972     short   \n",
       "1  tt0000002            5.8       264     short   \n",
       "2  tt0000003            6.5      1820     short   \n",
       "3  tt0000004            5.6       178     short   \n",
       "4  tt0000005            6.2      2615     short   \n",
       "5  tt0000006            5.1       181     short   \n",
       "6  tt0000007            5.4       818     short   \n",
       "7  tt0000008            5.4      2110     short   \n",
       "8  tt0000009            5.3       204     movie   \n",
       "9  tt0000010            6.9      7157     short   \n",
       "\n",
       "                                  primaryTitle  \\\n",
       "0                                   Carmencita   \n",
       "1                       Le clown et ses chiens   \n",
       "2                               Pauvre Pierrot   \n",
       "3                                  Un bon bock   \n",
       "4                             Blacksmith Scene   \n",
       "5                            Chinese Opium Den   \n",
       "6  Corbett and Courtney Before the Kinetograph   \n",
       "7       Edison Kinetoscopic Record of a Sneeze   \n",
       "8                                   Miss Jerry   \n",
       "9                          Leaving the Factory   \n",
       "\n",
       "                                 originalTitle isAdult startYear  \\\n",
       "0                                   Carmencita       0      1894   \n",
       "1                       Le clown et ses chiens       0      1892   \n",
       "2                               Pauvre Pierrot       0      1892   \n",
       "3                                  Un bon bock       0      1892   \n",
       "4                             Blacksmith Scene       0      1893   \n",
       "5                            Chinese Opium Den       0      1894   \n",
       "6  Corbett and Courtney Before the Kinetograph       0      1894   \n",
       "7       Edison Kinetoscopic Record of a Sneeze       0      1894   \n",
       "8                                   Miss Jerry       0      1894   \n",
       "9          La sortie de l'usine Lumière à Lyon       0      1895   \n",
       "\n",
       "  runtimeMinutes                    genres  \n",
       "0              1         Documentary,Short  \n",
       "1              5           Animation,Short  \n",
       "2              4  Animation,Comedy,Romance  \n",
       "3             12           Animation,Short  \n",
       "4              1              Comedy,Short  \n",
       "5              1                     Short  \n",
       "6              1               Short,Sport  \n",
       "7              1         Documentary,Short  \n",
       "8             45                   Romance  \n",
       "9              1         Documentary,Short  "
      ]
     },
     "execution_count": 10,
     "metadata": {},
     "output_type": "execute_result"
    }
   ],
   "source": [
    "final_list.iloc[0:10]"
   ]
  },
  {
   "cell_type": "code",
   "execution_count": 11,
   "id": "bc4bf360",
   "metadata": {},
   "outputs": [
    {
     "data": {
      "text/plain": [
       "(1312760, 10)"
      ]
     },
     "execution_count": 11,
     "metadata": {},
     "output_type": "execute_result"
    }
   ],
   "source": [
    "final_list.shape"
   ]
  },
  {
   "cell_type": "code",
   "execution_count": 12,
   "id": "5199efa4",
   "metadata": {},
   "outputs": [
    {
     "name": "stdout",
     "output_type": "stream",
     "text": [
      "Empty DataFrame\n",
      "Columns: [tconst, averageRating, numVotes, titleType, primaryTitle, originalTitle, isAdult, startYear, runtimeMinutes, genres]\n",
      "Index: []\n"
     ]
    }
   ],
   "source": [
    "duplicateRows = final_list[final_list.duplicated(keep='last')]\n",
    "print(duplicateRows)"
   ]
  },
  {
   "cell_type": "code",
   "execution_count": 13,
   "id": "409170d8",
   "metadata": {},
   "outputs": [
    {
     "data": {
      "text/plain": [
       "\\N      374349\n",
       "30       44867\n",
       "60       39205\n",
       "22       37737\n",
       "90       29125\n",
       "         ...  \n",
       "3600         1\n",
       "1196         1\n",
       "765          1\n",
       "541          1\n",
       "468          1\n",
       "Name: runtimeMinutes, Length: 721, dtype: int64"
      ]
     },
     "execution_count": 13,
     "metadata": {},
     "output_type": "execute_result"
    }
   ],
   "source": [
    "final_list['runtimeMinutes'].value_counts()"
   ]
  },
  {
   "cell_type": "code",
   "execution_count": 14,
   "id": "ddb6a57c",
   "metadata": {},
   "outputs": [
    {
     "data": {
      "text/plain": [
       "(938411, 10)"
      ]
     },
     "execution_count": 14,
     "metadata": {},
     "output_type": "execute_result"
    }
   ],
   "source": [
    "final_list=final_list.drop(final_list[final_list.runtimeMinutes== '\\\\N'].index)\n",
    "final_list.shape"
   ]
  },
  {
   "cell_type": "code",
   "execution_count": 15,
   "id": "a72dcd07",
   "metadata": {},
   "outputs": [
    {
     "data": {
      "text/plain": [
       "(906328, 10)"
      ]
     },
     "execution_count": 15,
     "metadata": {},
     "output_type": "execute_result"
    }
   ],
   "source": [
    "final_list=final_list.drop(final_list[final_list.runtimeMinutes== '1'].index)\n",
    "final_list=final_list.drop(final_list[final_list.runtimeMinutes== '2'].index)\n",
    "final_list=final_list.drop(final_list[final_list.runtimeMinutes== '3'].index)\n",
    "final_list=final_list.drop(final_list[final_list.runtimeMinutes== '4'].index)\n",
    "final_list=final_list.drop(final_list[final_list.runtimeMinutes== '5'].index)\n",
    "final_list.shape"
   ]
  },
  {
   "cell_type": "code",
   "execution_count": 16,
   "id": "ad43b880",
   "metadata": {},
   "outputs": [
    {
     "data": {
      "text/plain": [
       "(871595, 10)"
      ]
     },
     "execution_count": 16,
     "metadata": {},
     "output_type": "execute_result"
    }
   ],
   "source": [
    "final_list=final_list.drop(final_list[final_list.runtimeMinutes== '6'].index)\n",
    "final_list=final_list.drop(final_list[final_list.runtimeMinutes== '7'].index)\n",
    "final_list=final_list.drop(final_list[final_list.runtimeMinutes== '8'].index)\n",
    "final_list=final_list.drop(final_list[final_list.runtimeMinutes== '9'].index)\n",
    "final_list=final_list.drop(final_list[final_list.runtimeMinutes== '0'].index)\n",
    "final_list.shape"
   ]
  },
  {
   "cell_type": "code",
   "execution_count": 17,
   "id": "821b07d8",
   "metadata": {},
   "outputs": [
    {
     "data": {
      "text/html": [
       "<div>\n",
       "<style scoped>\n",
       "    .dataframe tbody tr th:only-of-type {\n",
       "        vertical-align: middle;\n",
       "    }\n",
       "\n",
       "    .dataframe tbody tr th {\n",
       "        vertical-align: top;\n",
       "    }\n",
       "\n",
       "    .dataframe thead th {\n",
       "        text-align: right;\n",
       "    }\n",
       "</style>\n",
       "<table border=\"1\" class=\"dataframe\">\n",
       "  <thead>\n",
       "    <tr style=\"text-align: right;\">\n",
       "      <th></th>\n",
       "      <th>tconst</th>\n",
       "      <th>averageRating</th>\n",
       "      <th>numVotes</th>\n",
       "      <th>titleType</th>\n",
       "      <th>primaryTitle</th>\n",
       "      <th>originalTitle</th>\n",
       "      <th>isAdult</th>\n",
       "      <th>startYear</th>\n",
       "      <th>runtimeMinutes</th>\n",
       "      <th>genres</th>\n",
       "    </tr>\n",
       "  </thead>\n",
       "  <tbody>\n",
       "    <tr>\n",
       "      <th>3</th>\n",
       "      <td>tt0000004</td>\n",
       "      <td>5.6</td>\n",
       "      <td>178</td>\n",
       "      <td>short</td>\n",
       "      <td>Un bon bock</td>\n",
       "      <td>Un bon bock</td>\n",
       "      <td>0</td>\n",
       "      <td>1892</td>\n",
       "      <td>12</td>\n",
       "      <td>Animation,Short</td>\n",
       "    </tr>\n",
       "    <tr>\n",
       "      <th>8</th>\n",
       "      <td>tt0000009</td>\n",
       "      <td>5.3</td>\n",
       "      <td>204</td>\n",
       "      <td>movie</td>\n",
       "      <td>Miss Jerry</td>\n",
       "      <td>Miss Jerry</td>\n",
       "      <td>0</td>\n",
       "      <td>1894</td>\n",
       "      <td>45</td>\n",
       "      <td>Romance</td>\n",
       "    </tr>\n",
       "    <tr>\n",
       "      <th>144</th>\n",
       "      <td>tt0000147</td>\n",
       "      <td>5.3</td>\n",
       "      <td>469</td>\n",
       "      <td>movie</td>\n",
       "      <td>The Corbett-Fitzsimmons Fight</td>\n",
       "      <td>The Corbett-Fitzsimmons Fight</td>\n",
       "      <td>0</td>\n",
       "      <td>1897</td>\n",
       "      <td>100</td>\n",
       "      <td>Documentary,News,Sport</td>\n",
       "    </tr>\n",
       "    <tr>\n",
       "      <th>198</th>\n",
       "      <td>tt0000218</td>\n",
       "      <td>5.9</td>\n",
       "      <td>662</td>\n",
       "      <td>short</td>\n",
       "      <td>L'affaire Dreyfus</td>\n",
       "      <td>L'affaire Dreyfus</td>\n",
       "      <td>0</td>\n",
       "      <td>1899</td>\n",
       "      <td>13</td>\n",
       "      <td>Biography,Drama,Short</td>\n",
       "    </tr>\n",
       "    <tr>\n",
       "      <th>252</th>\n",
       "      <td>tt0000335</td>\n",
       "      <td>6.1</td>\n",
       "      <td>55</td>\n",
       "      <td>short</td>\n",
       "      <td>Soldiers of the Cross</td>\n",
       "      <td>Soldiers of the Cross</td>\n",
       "      <td>0</td>\n",
       "      <td>1900</td>\n",
       "      <td>40</td>\n",
       "      <td>Biography,Drama,Short</td>\n",
       "    </tr>\n",
       "    <tr>\n",
       "      <th>271</th>\n",
       "      <td>tt0000373</td>\n",
       "      <td>6.4</td>\n",
       "      <td>93</td>\n",
       "      <td>short</td>\n",
       "      <td>The Devil's Seven Castles</td>\n",
       "      <td>Les sept châteaux du diable</td>\n",
       "      <td>0</td>\n",
       "      <td>1902</td>\n",
       "      <td>11</td>\n",
       "      <td>Drama,Horror,Short</td>\n",
       "    </tr>\n",
       "    <tr>\n",
       "      <th>280</th>\n",
       "      <td>tt0000399</td>\n",
       "      <td>6.1</td>\n",
       "      <td>763</td>\n",
       "      <td>short</td>\n",
       "      <td>Jack and the Beanstalk</td>\n",
       "      <td>Jack and the Beanstalk</td>\n",
       "      <td>0</td>\n",
       "      <td>1902</td>\n",
       "      <td>10</td>\n",
       "      <td>Fantasy,Short</td>\n",
       "    </tr>\n",
       "    <tr>\n",
       "      <th>290</th>\n",
       "      <td>tt0000417</td>\n",
       "      <td>8.2</td>\n",
       "      <td>52343</td>\n",
       "      <td>short</td>\n",
       "      <td>A Trip to the Moon</td>\n",
       "      <td>Le voyage dans la lune</td>\n",
       "      <td>0</td>\n",
       "      <td>1902</td>\n",
       "      <td>13</td>\n",
       "      <td>Action,Adventure,Comedy</td>\n",
       "    </tr>\n",
       "    <tr>\n",
       "      <th>299</th>\n",
       "      <td>tt0000439</td>\n",
       "      <td>7.3</td>\n",
       "      <td>20033</td>\n",
       "      <td>short</td>\n",
       "      <td>The Great Train Robbery</td>\n",
       "      <td>The Great Train Robbery</td>\n",
       "      <td>0</td>\n",
       "      <td>1903</td>\n",
       "      <td>11</td>\n",
       "      <td>Action,Adventure,Crime</td>\n",
       "    </tr>\n",
       "    <tr>\n",
       "      <th>302</th>\n",
       "      <td>tt0000446</td>\n",
       "      <td>4.8</td>\n",
       "      <td>25</td>\n",
       "      <td>short</td>\n",
       "      <td>Kit Carson</td>\n",
       "      <td>Kit Carson</td>\n",
       "      <td>0</td>\n",
       "      <td>1903</td>\n",
       "      <td>21</td>\n",
       "      <td>Short,Western</td>\n",
       "    </tr>\n",
       "    <tr>\n",
       "      <th>310</th>\n",
       "      <td>tt0000465</td>\n",
       "      <td>7.3</td>\n",
       "      <td>1670</td>\n",
       "      <td>short</td>\n",
       "      <td>The Kingdom of the Fairies</td>\n",
       "      <td>Le royaume des fées</td>\n",
       "      <td>0</td>\n",
       "      <td>1903</td>\n",
       "      <td>16</td>\n",
       "      <td>Adventure,Fantasy,Short</td>\n",
       "    </tr>\n",
       "    <tr>\n",
       "      <th>312</th>\n",
       "      <td>tt0000471</td>\n",
       "      <td>5.2</td>\n",
       "      <td>508</td>\n",
       "      <td>short</td>\n",
       "      <td>Uncle Tom's Cabin</td>\n",
       "      <td>Uncle Tom's Cabin</td>\n",
       "      <td>0</td>\n",
       "      <td>1903</td>\n",
       "      <td>13</td>\n",
       "      <td>Drama,Short</td>\n",
       "    </tr>\n",
       "    <tr>\n",
       "      <th>317</th>\n",
       "      <td>tt0000488</td>\n",
       "      <td>6.9</td>\n",
       "      <td>823</td>\n",
       "      <td>short</td>\n",
       "      <td>The Land Beyond the Sunset</td>\n",
       "      <td>The Land Beyond the Sunset</td>\n",
       "      <td>0</td>\n",
       "      <td>1912</td>\n",
       "      <td>14</td>\n",
       "      <td>Drama,Fantasy,Short</td>\n",
       "    </tr>\n",
       "    <tr>\n",
       "      <th>320</th>\n",
       "      <td>tt0000495</td>\n",
       "      <td>6.0</td>\n",
       "      <td>115</td>\n",
       "      <td>short</td>\n",
       "      <td>The Pearl Fisher</td>\n",
       "      <td>Le pêcheur de perles</td>\n",
       "      <td>0</td>\n",
       "      <td>1907</td>\n",
       "      <td>12</td>\n",
       "      <td>Fantasy,Short</td>\n",
       "    </tr>\n",
       "    <tr>\n",
       "      <th>324</th>\n",
       "      <td>tt0000499</td>\n",
       "      <td>7.5</td>\n",
       "      <td>3753</td>\n",
       "      <td>short</td>\n",
       "      <td>The Impossible Voyage</td>\n",
       "      <td>Le voyage à travers l'impossible</td>\n",
       "      <td>0</td>\n",
       "      <td>1904</td>\n",
       "      <td>24</td>\n",
       "      <td>Action,Adventure,Family</td>\n",
       "    </tr>\n",
       "    <tr>\n",
       "      <th>326</th>\n",
       "      <td>tt0000502</td>\n",
       "      <td>4.1</td>\n",
       "      <td>15</td>\n",
       "      <td>movie</td>\n",
       "      <td>Bohemios</td>\n",
       "      <td>Bohemios</td>\n",
       "      <td>0</td>\n",
       "      <td>1905</td>\n",
       "      <td>100</td>\n",
       "      <td>\\N</td>\n",
       "    </tr>\n",
       "    <tr>\n",
       "      <th>330</th>\n",
       "      <td>tt0000511</td>\n",
       "      <td>6.4</td>\n",
       "      <td>45</td>\n",
       "      <td>short</td>\n",
       "      <td>Esmeralda</td>\n",
       "      <td>Esmeralda</td>\n",
       "      <td>0</td>\n",
       "      <td>1905</td>\n",
       "      <td>10</td>\n",
       "      <td>Drama,Short</td>\n",
       "    </tr>\n",
       "    <tr>\n",
       "      <th>335</th>\n",
       "      <td>tt0000520</td>\n",
       "      <td>6.3</td>\n",
       "      <td>58</td>\n",
       "      <td>short</td>\n",
       "      <td>The Life of Charles Peace</td>\n",
       "      <td>The Life of Charles Peace</td>\n",
       "      <td>0</td>\n",
       "      <td>1905</td>\n",
       "      <td>14</td>\n",
       "      <td>Biography,Crime,Short</td>\n",
       "    </tr>\n",
       "    <tr>\n",
       "      <th>336</th>\n",
       "      <td>tt0000521</td>\n",
       "      <td>5.5</td>\n",
       "      <td>318</td>\n",
       "      <td>short</td>\n",
       "      <td>The Little Train Robbery</td>\n",
       "      <td>The Little Train Robbery</td>\n",
       "      <td>0</td>\n",
       "      <td>1905</td>\n",
       "      <td>12</td>\n",
       "      <td>Action,Crime,Drama</td>\n",
       "    </tr>\n",
       "    <tr>\n",
       "      <th>340</th>\n",
       "      <td>tt0000528</td>\n",
       "      <td>6.2</td>\n",
       "      <td>17</td>\n",
       "      <td>short</td>\n",
       "      <td>Raffles, the Amateur Cracksman</td>\n",
       "      <td>Raffles, the Amateur Cracksman</td>\n",
       "      <td>0</td>\n",
       "      <td>1905</td>\n",
       "      <td>15</td>\n",
       "      <td>Adventure,Romance,Short</td>\n",
       "    </tr>\n",
       "  </tbody>\n",
       "</table>\n",
       "</div>"
      ],
      "text/plain": [
       "        tconst  averageRating  numVotes titleType  \\\n",
       "3    tt0000004            5.6       178     short   \n",
       "8    tt0000009            5.3       204     movie   \n",
       "144  tt0000147            5.3       469     movie   \n",
       "198  tt0000218            5.9       662     short   \n",
       "252  tt0000335            6.1        55     short   \n",
       "271  tt0000373            6.4        93     short   \n",
       "280  tt0000399            6.1       763     short   \n",
       "290  tt0000417            8.2     52343     short   \n",
       "299  tt0000439            7.3     20033     short   \n",
       "302  tt0000446            4.8        25     short   \n",
       "310  tt0000465            7.3      1670     short   \n",
       "312  tt0000471            5.2       508     short   \n",
       "317  tt0000488            6.9       823     short   \n",
       "320  tt0000495            6.0       115     short   \n",
       "324  tt0000499            7.5      3753     short   \n",
       "326  tt0000502            4.1        15     movie   \n",
       "330  tt0000511            6.4        45     short   \n",
       "335  tt0000520            6.3        58     short   \n",
       "336  tt0000521            5.5       318     short   \n",
       "340  tt0000528            6.2        17     short   \n",
       "\n",
       "                       primaryTitle                     originalTitle isAdult  \\\n",
       "3                       Un bon bock                       Un bon bock       0   \n",
       "8                        Miss Jerry                        Miss Jerry       0   \n",
       "144   The Corbett-Fitzsimmons Fight     The Corbett-Fitzsimmons Fight       0   \n",
       "198               L'affaire Dreyfus                 L'affaire Dreyfus       0   \n",
       "252           Soldiers of the Cross             Soldiers of the Cross       0   \n",
       "271       The Devil's Seven Castles       Les sept châteaux du diable       0   \n",
       "280          Jack and the Beanstalk            Jack and the Beanstalk       0   \n",
       "290              A Trip to the Moon            Le voyage dans la lune       0   \n",
       "299         The Great Train Robbery           The Great Train Robbery       0   \n",
       "302                      Kit Carson                        Kit Carson       0   \n",
       "310      The Kingdom of the Fairies               Le royaume des fées       0   \n",
       "312               Uncle Tom's Cabin                 Uncle Tom's Cabin       0   \n",
       "317      The Land Beyond the Sunset        The Land Beyond the Sunset       0   \n",
       "320                The Pearl Fisher              Le pêcheur de perles       0   \n",
       "324           The Impossible Voyage  Le voyage à travers l'impossible       0   \n",
       "326                        Bohemios                          Bohemios       0   \n",
       "330                       Esmeralda                         Esmeralda       0   \n",
       "335       The Life of Charles Peace         The Life of Charles Peace       0   \n",
       "336        The Little Train Robbery          The Little Train Robbery       0   \n",
       "340  Raffles, the Amateur Cracksman    Raffles, the Amateur Cracksman       0   \n",
       "\n",
       "    startYear runtimeMinutes                   genres  \n",
       "3        1892             12          Animation,Short  \n",
       "8        1894             45                  Romance  \n",
       "144      1897            100   Documentary,News,Sport  \n",
       "198      1899             13    Biography,Drama,Short  \n",
       "252      1900             40    Biography,Drama,Short  \n",
       "271      1902             11       Drama,Horror,Short  \n",
       "280      1902             10            Fantasy,Short  \n",
       "290      1902             13  Action,Adventure,Comedy  \n",
       "299      1903             11   Action,Adventure,Crime  \n",
       "302      1903             21            Short,Western  \n",
       "310      1903             16  Adventure,Fantasy,Short  \n",
       "312      1903             13              Drama,Short  \n",
       "317      1912             14      Drama,Fantasy,Short  \n",
       "320      1907             12            Fantasy,Short  \n",
       "324      1904             24  Action,Adventure,Family  \n",
       "326      1905            100                       \\N  \n",
       "330      1905             10              Drama,Short  \n",
       "335      1905             14    Biography,Crime,Short  \n",
       "336      1905             12       Action,Crime,Drama  \n",
       "340      1905             15  Adventure,Romance,Short  "
      ]
     },
     "execution_count": 17,
     "metadata": {},
     "output_type": "execute_result"
    }
   ],
   "source": [
    "final_list.iloc[0:20]"
   ]
  },
  {
   "cell_type": "code",
   "execution_count": 18,
   "id": "00794760",
   "metadata": {},
   "outputs": [
    {
     "data": {
      "text/plain": [
       "30      44867\n",
       "60      39205\n",
       "22      37737\n",
       "90      29125\n",
       "24      26821\n",
       "        ...  \n",
       "1170        1\n",
       "636         1\n",
       "1271        1\n",
       "870         1\n",
       "468         1\n",
       "Name: runtimeMinutes, Length: 710, dtype: int64"
      ]
     },
     "execution_count": 18,
     "metadata": {},
     "output_type": "execute_result"
    }
   ],
   "source": [
    "final_list['runtimeMinutes'].value_counts()"
   ]
  },
  {
   "cell_type": "code",
   "execution_count": 19,
   "id": "8fd7ad5d",
   "metadata": {},
   "outputs": [
    {
     "data": {
      "text/plain": [
       "(871595, 10)"
      ]
     },
     "execution_count": 19,
     "metadata": {},
     "output_type": "execute_result"
    }
   ],
   "source": [
    "final_list=final_list.drop(final_list[final_list.averageRating== '\\\\N'].index)\n",
    "final_list.shape"
   ]
  },
  {
   "cell_type": "code",
   "execution_count": 20,
   "id": "e00f7707",
   "metadata": {},
   "outputs": [
    {
     "data": {
      "text/plain": [
       "(871595, 10)"
      ]
     },
     "execution_count": 20,
     "metadata": {},
     "output_type": "execute_result"
    }
   ],
   "source": [
    "final_list=final_list.drop(final_list[final_list.numVotes== '\\\\N'].index)\n",
    "final_list.shape"
   ]
  },
  {
   "cell_type": "code",
   "execution_count": 21,
   "id": "2035d452",
   "metadata": {},
   "outputs": [
    {
     "data": {
      "text/plain": [
       "(862127, 10)"
      ]
     },
     "execution_count": 21,
     "metadata": {},
     "output_type": "execute_result"
    }
   ],
   "source": [
    "final_list=final_list.drop(final_list[final_list.genres== '\\\\N'].index)\n",
    "final_list.shape"
   ]
  },
  {
   "cell_type": "code",
   "execution_count": 23,
   "id": "2b810862",
   "metadata": {},
   "outputs": [
    {
     "data": {
      "text/plain": [
       "(862042, 10)"
      ]
     },
     "execution_count": 23,
     "metadata": {},
     "output_type": "execute_result"
    }
   ],
   "source": [
    "final_list=final_list.drop(final_list[final_list.startYear== '\\\\N'].index)\n",
    "final_list.shape"
   ]
  },
  {
   "cell_type": "code",
   "execution_count": 24,
   "id": "33fecd2f",
   "metadata": {},
   "outputs": [
    {
     "data": {
      "text/plain": [
       "(862042, 10)"
      ]
     },
     "execution_count": 24,
     "metadata": {},
     "output_type": "execute_result"
    }
   ],
   "source": [
    "final_list=final_list.drop(final_list[final_list.primaryTitle== '\\\\N'].index)\n",
    "final_list.shape"
   ]
  },
  {
   "cell_type": "code",
   "execution_count": 25,
   "id": "3aadd5ae",
   "metadata": {},
   "outputs": [
    {
     "data": {
      "text/plain": [
       "(862042, 10)"
      ]
     },
     "execution_count": 25,
     "metadata": {},
     "output_type": "execute_result"
    }
   ],
   "source": [
    "final_list=final_list.drop(final_list[final_list.originalTitle== '\\\\N'].index)\n",
    "final_list.shape"
   ]
  },
  {
   "cell_type": "code",
   "execution_count": 26,
   "id": "71e99592",
   "metadata": {},
   "outputs": [
    {
     "data": {
      "text/plain": [
       "(862042, 10)"
      ]
     },
     "execution_count": 26,
     "metadata": {},
     "output_type": "execute_result"
    }
   ],
   "source": [
    "final_list=final_list.drop(final_list[final_list.titleType== '\\\\N'].index)\n",
    "final_list.shape"
   ]
  },
  {
   "cell_type": "code",
   "execution_count": 27,
   "id": "f8c4870f",
   "metadata": {},
   "outputs": [
    {
     "name": "stdout",
     "output_type": "stream",
     "text": [
      "\n",
      "CSV String:\n",
      " None\n"
     ]
    }
   ],
   "source": [
    "df = pd.DataFrame(final_list)\n",
    "csv_data = df.to_csv('FinalList.csv', index = True)\n",
    "print('\\nCSV String:\\n', csv_data)"
   ]
  },
  {
   "cell_type": "code",
   "execution_count": 68,
   "id": "50142e82",
   "metadata": {},
   "outputs": [],
   "source": [
    "# Now the final list is ready"
   ]
  },
  {
   "cell_type": "code",
   "execution_count": 69,
   "id": "985b26e8",
   "metadata": {},
   "outputs": [
    {
     "data": {
      "text/plain": [
       "1544.8338794632346"
      ]
     },
     "execution_count": 69,
     "metadata": {},
     "output_type": "execute_result"
    }
   ],
   "source": [
    "final_list.loc[:, 'numVotes'].mean()"
   ]
  },
  {
   "cell_type": "code",
   "execution_count": 71,
   "id": "515a88f4",
   "metadata": {},
   "outputs": [
    {
     "data": {
      "text/plain": [
       "(58007, 10)"
      ]
     },
     "execution_count": 71,
     "metadata": {},
     "output_type": "execute_result"
    }
   ],
   "source": [
    "votes_1000=final_list[final_list['numVotes']>1500]\n",
    "votes_1000.shape"
   ]
  },
  {
   "cell_type": "code",
   "execution_count": 79,
   "id": "1111ad81",
   "metadata": {},
   "outputs": [
    {
     "data": {
      "text/plain": [
       "<bound method NDFrame.head of             tconst  averageRating  numVotes  titleType  \\\n",
       "290      tt0000417            8.2     52343      short   \n",
       "299      tt0000439            7.3     20033      short   \n",
       "310      tt0000465            7.3      1670      short   \n",
       "324      tt0000499            7.5      3753      short   \n",
       "506      tt0000832            6.6      2582      short   \n",
       "...            ...            ...       ...        ...   \n",
       "1312516  tt9913038            8.4      3124  tvEpisode   \n",
       "1312517  tt9913040            7.3      3175  tvEpisode   \n",
       "1312520  tt9913050            7.9      3061  tvEpisode   \n",
       "1312641  tt9913754            7.3      5266  tvEpisode   \n",
       "1312730  tt9916362            6.4      5333      movie   \n",
       "\n",
       "                                     primaryTitle  \\\n",
       "290                            A Trip to the Moon   \n",
       "299                       The Great Train Robbery   \n",
       "310                    The Kingdom of the Fairies   \n",
       "324                         The Impossible Voyage   \n",
       "506                             A Corner in Wheat   \n",
       "...                                           ...   \n",
       "1312516                          Together Forever   \n",
       "1312517                           Tsuzumi Mansion   \n",
       "1312520  The Boar Bares Its Fangs, Zenitsu Sleeps   \n",
       "1312641                                Psalm 46:5   \n",
       "1312730                                     Coven   \n",
       "\n",
       "                                    originalTitle isAdult startYear  \\\n",
       "290                        Le voyage dans la lune       0      1902   \n",
       "299                       The Great Train Robbery       0      1903   \n",
       "310                           Le royaume des fées       0      1903   \n",
       "324              Le voyage à travers l'impossible       0      1904   \n",
       "506                             A Corner in Wheat       0      1909   \n",
       "...                                           ...     ...       ...   \n",
       "1312516                          Together Forever       0      2019   \n",
       "1312517                           Tsuzumi Mansion       0      2019   \n",
       "1312520  The Boar Bares Its Fangs, Zenitsu Sleeps       0      2019   \n",
       "1312641                                Psalm 46:5       0      2020   \n",
       "1312730                                  Akelarre       0      2020   \n",
       "\n",
       "        runtimeMinutes                      genres  \n",
       "290                 13     Action,Adventure,Comedy  \n",
       "299                 11      Action,Adventure,Crime  \n",
       "310                 16     Adventure,Fantasy,Short  \n",
       "324                 24     Action,Adventure,Family  \n",
       "506                 14           Crime,Drama,Short  \n",
       "...                ...                         ...  \n",
       "1312516             24  Action,Adventure,Animation  \n",
       "1312517             24  Action,Adventure,Animation  \n",
       "1312520             24  Action,Adventure,Animation  \n",
       "1312641             50        Action,Drama,Fantasy  \n",
       "1312730             92               Drama,History  \n",
       "\n",
       "[58007 rows x 10 columns]>"
      ]
     },
     "execution_count": 79,
     "metadata": {},
     "output_type": "execute_result"
    }
   ],
   "source": [
    "votes_1000.head"
   ]
  },
  {
   "cell_type": "code",
   "execution_count": null,
   "id": "25b76d58",
   "metadata": {},
   "outputs": [],
   "source": []
  }
 ],
 "metadata": {
  "kernelspec": {
   "display_name": "Python 3 (ipykernel)",
   "language": "python",
   "name": "python3"
  },
  "language_info": {
   "codemirror_mode": {
    "name": "ipython",
    "version": 3
   },
   "file_extension": ".py",
   "mimetype": "text/x-python",
   "name": "python",
   "nbconvert_exporter": "python",
   "pygments_lexer": "ipython3",
   "version": "3.9.13"
  }
 },
 "nbformat": 4,
 "nbformat_minor": 5
}
